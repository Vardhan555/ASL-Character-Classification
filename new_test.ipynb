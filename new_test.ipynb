{
 "cells": [
  {
   "cell_type": "code",
   "execution_count": 39,
   "id": "d2fac33a-07ce-480c-ba90-ca489b41ef6f",
   "metadata": {
    "tags": []
   },
   "outputs": [],
   "source": [
    "import os\n",
    "import random\n",
    "import numpy as np\n",
    "# Employ PIL for effective image processing capabilities\n",
    "from PIL import Image\n",
    "# Integrate tqdm to include progress bars for enhanced visibility in loops\n",
    "from tqdm import tqdm\n",
    "# Utilize Matplotlib and seaborn for comprehensive plotting capabilities\n",
    "import matplotlib.pyplot as plt\n",
    "# PyTorch for constructing and training neural networks\n",
    "import torch\n",
    "import torch.nn as nn\n",
    "import torch.optim as optim\n",
    "from torch.utils.data import DataLoader, Dataset, random_split\n",
    "# Leverage torchvision for seamless management of image data and utilization of pretrained models\n",
    "from torchvision import transforms\n",
    "from sklearn.metrics import accuracy_score, f1_score, confusion_matrix\n",
    "from torchvision.models import resnet50, resnet152, ResNet50_Weights, ResNet152_Weights"
   ]
  },
  {
   "cell_type": "markdown",
   "id": "39cf3da8-fd35-4cb1-a424-d6810d57f4e5",
   "metadata": {},
   "source": [
    "## Initialization and Data Loading"
   ]
  },
  {
   "cell_type": "code",
   "execution_count": 40,
   "id": "762ca0cc-9b62-4533-9981-5e1339870437",
   "metadata": {
    "tags": []
   },
   "outputs": [
    {
     "name": "stdout",
     "output_type": "stream",
     "text": [
      "Computation Device: cuda\n"
     ]
    }
   ],
   "source": [
    "# Function to set up the computation device\n",
    "def initialize_device():\n",
    "    computation_device = torch.device(\"cuda\" if torch.cuda.is_available() else \"cpu\")\n",
    "    print(f\"Computation Device: {computation_device}\")\n",
    "    return computation_device\n",
    "\n",
    "# Function to load dataset\n",
    "def load_dataset(data_file, label_file):\n",
    "    data = np.load(data_file)\n",
    "    label_set = np.load(label_file)\n",
    "    image_count = data.shape[1]\n",
    "    reshaped_data = data.reshape(image_count, 3, 300, 300).transpose(3, 0, 1, 2)\n",
    "    # return reshaped_data, label_set\n",
    "    return data, label_set\n",
    "\n",
    "# Initialize device\n",
    "device = initialize_device()\n",
    "\n",
    "# Load data and labels\n",
    "test_data_file =  'data-1.npy'\n",
    "test_label_file = 'labels-1.npy'\n",
    "test_data, test_labels = load_dataset(test_data_file, test_label_file)\n"
   ]
  },
  {
   "cell_type": "markdown",
   "id": "23c77967-55e6-4b9e-85e6-3eee9b1a6873",
   "metadata": {},
   "source": [
    "## Transformations and Dataset"
   ]
  },
  {
   "cell_type": "code",
   "execution_count": 41,
   "id": "470838f3-b3b0-4128-82bc-855412116c50",
   "metadata": {
    "tags": []
   },
   "outputs": [],
   "source": [
    "# Function to define transformation pipeline\n",
    "def create_transformations():\n",
    "    image_transformations = transforms.Compose([\n",
    "        transforms.Resize((224, 224)),\n",
    "        transforms.ToTensor(),\n",
    "        transforms.Normalize(mean=[0.485, 0.456, 0.406], std=[0.229, 0.224, 0.225])\n",
    "    ])\n",
    "    return image_transformations\n",
    "\n",
    "# Custom dataset class\n",
    "class ImageDataset(Dataset):\n",
    "    def __init__(self, images, labels, transformations=None):\n",
    "        self.images = images\n",
    "        self.labels = labels\n",
    "        self.transformations = transformations\n",
    "\n",
    "    def __len__(self):\n",
    "        return len(self.labels)\n",
    "\n",
    "    def __getitem__(self, index):\n",
    "        image_data = self.images[:, index].reshape(300, 300, 3)\n",
    "        pil_image = Image.fromarray(image_data)\n",
    "        if self.transformations:\n",
    "            transformed_image = self.transformations(pil_image)\n",
    "        return transformed_image, self.labels[index]\n",
    "\n",
    "# Create transformations\n",
    "data_transformations = create_transformations()\n"
   ]
  },
  {
   "cell_type": "markdown",
   "id": "8e948893-03ef-4b09-bfcd-2fecad92d228",
   "metadata": {},
   "source": [
    "## Load test data"
   ]
  },
  {
   "cell_type": "code",
   "execution_count": 42,
   "id": "cd773201-8c3c-4aaa-8408-a5b440fc4f2c",
   "metadata": {},
   "outputs": [],
   "source": [
    "# Load the data and labels from the .npy files\n",
    "data_test = np.load(test_data_filepath)\n",
    "labels_test = np.load(test_labels_filepath)\n",
    "# Create a custom dataset using the loaded data and labels along with the predefined transformations\n",
    "dataset = ImageDataset(data_test, labels_test, data_transformations)\n",
    "load_test = DataLoader(dataset, batch_size=128)"
   ]
  },
  {
   "cell_type": "code",
   "execution_count": 43,
   "id": "8ee3e21a-c6bf-4626-87dc-cf0cdbf6a09e",
   "metadata": {},
   "outputs": [
    {
     "name": "stdout",
     "output_type": "stream",
     "text": [
      "Average Loss on Test Data: 0.0025, Overall Test Accuracy: 97.04%\n"
     ]
    }
   ],
   "source": [
    "# Function to initialize and load the trained model\n",
    "def initialize_and_load_model(file_path, class_count):\n",
    "    neural_network_model = resnet152(pretrained=False, num_classes=class_count)\n",
    "    neural_network_model.load_state_dict(torch.load(file_path))\n",
    "    return neural_network_model\n",
    "\n",
    "# Function to perform the evaluation on the test dataset\n",
    "def perform_test_evaluation(test_data_loader, evaluation_model, evaluation_criterion, device):\n",
    "    accumulated_test_loss = 0\n",
    "    total_correct_predictions = 0\n",
    "    total_samples_evaluated = 0\n",
    "\n",
    "    with torch.no_grad():  # Disable gradient computation for evaluation\n",
    "        for inputs, labels in test_data_loader:\n",
    "            inputs, labels = inputs.to(device, dtype=torch.float), labels.to(device, dtype=torch.long)\n",
    "            model_outputs = evaluation_model(inputs)\n",
    "            accumulated_test_loss += evaluation_criterion(model_outputs, labels).item()\n",
    "            _, predicted_labels = torch.max(model_outputs.data, 1)\n",
    "            total_correct_predictions += (predicted_labels == labels).sum().item()\n",
    "            total_samples_evaluated += labels.size(0)\n",
    "\n",
    "    average_loss = accumulated_test_loss / len(test_data_loader.dataset)\n",
    "    accuracy_percent = 100 * total_correct_predictions / total_samples_evaluated\n",
    "    return average_loss, accuracy_percent\n",
    "\n",
    "# Model and test configuration\n",
    "model_file_path = 'model/resnet_model_final.pth' \n",
    "number_of_classes = 9  \n",
    "loss_function = nn.CrossEntropyLoss()\n",
    "\n",
    "# Load the trained model and perform evaluation\n",
    "trained_model = initialize_and_load_model(model_file_path, number_of_classes).to(device)\n",
    "avg_loss, test_acc = perform_test_evaluation(test_loader, trained_model, loss_function, device)\n",
    "\n",
    "# Output the test results\n",
    "print(f'Average Loss on Test Data: {avg_loss:.4f}, Overall Test Accuracy: {test_acc:.2f}%')\n"
   ]
  },
  {
   "cell_type": "code",
   "execution_count": null,
   "id": "08481c3f-542d-4699-807d-f65716901ad8",
   "metadata": {},
   "outputs": [],
   "source": []
  },
  {
   "cell_type": "code",
   "execution_count": null,
   "id": "0c09701f-3d26-4599-9d70-b726021f8bac",
   "metadata": {},
   "outputs": [],
   "source": []
  },
  {
   "cell_type": "code",
   "execution_count": null,
   "id": "1e865dea-42ba-4d5e-b682-0e5fa27490e0",
   "metadata": {},
   "outputs": [],
   "source": []
  },
  {
   "cell_type": "code",
   "execution_count": null,
   "id": "72c33850-38de-4659-ae15-90185a389401",
   "metadata": {},
   "outputs": [],
   "source": []
  },
  {
   "cell_type": "code",
   "execution_count": null,
   "id": "95ab67ba-0785-4405-b3c2-0d0e86bb9a57",
   "metadata": {},
   "outputs": [],
   "source": []
  },
  {
   "cell_type": "code",
   "execution_count": null,
   "id": "2e65c5f8-de0e-4699-8412-4b5686b575e1",
   "metadata": {},
   "outputs": [],
   "source": []
  }
 ],
 "metadata": {
  "kernelspec": {
   "display_name": "PyTorch-2.0.1",
   "language": "python",
   "name": "pytorch-2.0.1"
  },
  "language_info": {
   "codemirror_mode": {
    "name": "ipython",
    "version": 3
   },
   "file_extension": ".py",
   "mimetype": "text/x-python",
   "name": "python",
   "nbconvert_exporter": "python",
   "pygments_lexer": "ipython3",
   "version": "3.10.11"
  }
 },
 "nbformat": 4,
 "nbformat_minor": 5
}
